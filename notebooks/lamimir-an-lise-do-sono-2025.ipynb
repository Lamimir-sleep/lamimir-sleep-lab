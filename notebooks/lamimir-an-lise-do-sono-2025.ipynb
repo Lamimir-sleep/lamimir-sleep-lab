{
 "cells": [
  {
   "cell_type": "markdown",
   "id": "f06b64ab",
   "metadata": {
    "papermill": {
     "duration": 0.002228,
     "end_time": "2025-08-30T19:16:08.864676",
     "exception": false,
     "start_time": "2025-08-30T19:16:08.862448",
     "status": "completed"
    },
    "tags": []
   },
   "source": []
  },
  {
   "cell_type": "markdown",
   "id": "ab7e272a",
   "metadata": {
    "papermill": {
     "duration": 0.001431,
     "end_time": "2025-08-30T19:16:08.867833",
     "exception": false,
     "start_time": "2025-08-30T19:16:08.866402",
     "status": "completed"
    },
    "tags": []
   },
   "source": [
    "# Lamimir — Análise do Sono (2025)\n",
    "\n",
    "Este notebook analisa o dataset **“Panorama do Sono no Brasil — Lamimir (2025)”** para fins educativos.\n",
    "\n",
    "**O que você verá:**\n",
    "1. Distribuição de horas de sono  \n",
    "2. Problemas mais comuns (insônia, dor lombar, ansiedade, apneia)  \n",
    "3. Qualidade do sono percebida x colchão adequado  \n",
    "4. Idade x horas de sono  \n",
    "5. Insights rápidos\n",
    "\n",
    "**Objetivo:** apoiar educação, pesquisa e aplicações de IA para saúde do sono e bem-estar.\n"
   ]
  },
  {
   "cell_type": "code",
   "execution_count": 1,
   "id": "2b1abc0f",
   "metadata": {
    "_cell_guid": "b1076dfc-b9ad-4769-8c92-a6c4dae69d19",
    "_uuid": "8f2839f25d086af736a60e9eeb907d3b93b6e0e5",
    "execution": {
     "iopub.execute_input": "2025-08-30T19:16:08.872565Z",
     "iopub.status.busy": "2025-08-30T19:16:08.871802Z",
     "iopub.status.idle": "2025-08-30T19:16:10.270743Z",
     "shell.execute_reply": "2025-08-30T19:16:10.269875Z"
    },
    "papermill": {
     "duration": 1.402634,
     "end_time": "2025-08-30T19:16:10.271915",
     "exception": false,
     "start_time": "2025-08-30T19:16:08.869281",
     "status": "completed"
    },
    "tags": []
   },
   "outputs": [
    {
     "name": "stdout",
     "output_type": "stream",
     "text": [
      "/kaggle/input/panorama-do-sono-no-brasil-lamimir-2025/lamimir_panorama_sono_2025.csv\n"
     ]
    }
   ],
   "source": [
    "# This Python 3 environment comes with many helpful analytics libraries installed\n",
    "# It is defined by the kaggle/python Docker image: https://github.com/kaggle/docker-python\n",
    "# For example, here's several helpful packages to load\n",
    "\n",
    "import numpy as np # linear algebra\n",
    "import pandas as pd # data processing, CSV file I/O (e.g. pd.read_csv)\n",
    "\n",
    "# Input data files are available in the read-only \"../input/\" directory\n",
    "# For example, running this (by clicking run or pressing Shift+Enter) will list all files under the input directory\n",
    "\n",
    "import os\n",
    "for dirname, _, filenames in os.walk('/kaggle/input'):\n",
    "    for filename in filenames:\n",
    "        print(os.path.join(dirname, filename))\n",
    "\n",
    "# You can write up to 20GB to the current directory (/kaggle/working/) that gets preserved as output when you create a version using \"Save & Run All\" \n",
    "# You can also write temporary files to /kaggle/temp/, but they won't be saved outside of the current session"
   ]
  },
  {
   "cell_type": "code",
   "execution_count": 2,
   "id": "e58b9d06",
   "metadata": {
    "execution": {
     "iopub.execute_input": "2025-08-30T19:16:10.276216Z",
     "iopub.status.busy": "2025-08-30T19:16:10.275919Z",
     "iopub.status.idle": "2025-08-30T19:16:10.306594Z",
     "shell.execute_reply": "2025-08-30T19:16:10.305801Z"
    },
    "papermill": {
     "duration": 0.034439,
     "end_time": "2025-08-30T19:16:10.308176",
     "exception": false,
     "start_time": "2025-08-30T19:16:10.273737",
     "status": "completed"
    },
    "tags": []
   },
   "outputs": [
    {
     "data": {
      "text/html": [
       "<div>\n",
       "<style scoped>\n",
       "    .dataframe tbody tr th:only-of-type {\n",
       "        vertical-align: middle;\n",
       "    }\n",
       "\n",
       "    .dataframe tbody tr th {\n",
       "        vertical-align: top;\n",
       "    }\n",
       "\n",
       "    .dataframe thead th {\n",
       "        text-align: right;\n",
       "    }\n",
       "</style>\n",
       "<table border=\"1\" class=\"dataframe\">\n",
       "  <thead>\n",
       "    <tr style=\"text-align: right;\">\n",
       "      <th></th>\n",
       "      <th>idade</th>\n",
       "      <th>horas_sono</th>\n",
       "      <th>qualidade_percebida</th>\n",
       "      <th>problema_principal</th>\n",
       "      <th>colchao_adequado</th>\n",
       "    </tr>\n",
       "  </thead>\n",
       "  <tbody>\n",
       "    <tr>\n",
       "      <th>0</th>\n",
       "      <td>58</td>\n",
       "      <td>8</td>\n",
       "      <td>4</td>\n",
       "      <td>nenhum</td>\n",
       "      <td>sim</td>\n",
       "    </tr>\n",
       "    <tr>\n",
       "      <th>1</th>\n",
       "      <td>25</td>\n",
       "      <td>5</td>\n",
       "      <td>2</td>\n",
       "      <td>dor lombar</td>\n",
       "      <td>sim</td>\n",
       "    </tr>\n",
       "    <tr>\n",
       "      <th>2</th>\n",
       "      <td>19</td>\n",
       "      <td>7</td>\n",
       "      <td>3</td>\n",
       "      <td>dor lombar</td>\n",
       "      <td>sim</td>\n",
       "    </tr>\n",
       "    <tr>\n",
       "      <th>3</th>\n",
       "      <td>65</td>\n",
       "      <td>7</td>\n",
       "      <td>2</td>\n",
       "      <td>ansiedade</td>\n",
       "      <td>sim</td>\n",
       "    </tr>\n",
       "    <tr>\n",
       "      <th>4</th>\n",
       "      <td>35</td>\n",
       "      <td>7</td>\n",
       "      <td>2</td>\n",
       "      <td>dor lombar</td>\n",
       "      <td>sim</td>\n",
       "    </tr>\n",
       "  </tbody>\n",
       "</table>\n",
       "</div>"
      ],
      "text/plain": [
       "   idade  horas_sono  qualidade_percebida problema_principal colchao_adequado\n",
       "0     58           8                    4             nenhum              sim\n",
       "1     25           5                    2         dor lombar              sim\n",
       "2     19           7                    3         dor lombar              sim\n",
       "3     65           7                    2          ansiedade              sim\n",
       "4     35           7                    2         dor lombar              sim"
      ]
     },
     "execution_count": 2,
     "metadata": {},
     "output_type": "execute_result"
    }
   ],
   "source": [
    "import pandas as pd\n",
    "import matplotlib.pyplot as plt\n",
    "\n",
    "# Caminho do CSV (ajuste se o Kaggle mostrar diferente)\n",
    "path = \"/kaggle/input/panorama-do-sono-no-brasil-lamimir-2025/lamimir_panorama_sono_2025.csv\"\n",
    "\n",
    "# Carregar os dados\n",
    "df = pd.read_csv(path)\n",
    "\n",
    "# Mostrar primeiras linhas\n",
    "df.head()\n"
   ]
  },
  {
   "cell_type": "code",
   "execution_count": 3,
   "id": "bed29bcd",
   "metadata": {
    "execution": {
     "iopub.execute_input": "2025-08-30T19:16:10.313096Z",
     "iopub.status.busy": "2025-08-30T19:16:10.312837Z",
     "iopub.status.idle": "2025-08-30T19:16:11.080746Z",
     "shell.execute_reply": "2025-08-30T19:16:11.080118Z"
    },
    "papermill": {
     "duration": 0.772033,
     "end_time": "2025-08-30T19:16:11.082234",
     "exception": false,
     "start_time": "2025-08-30T19:16:10.310201",
     "status": "completed"
    },
    "tags": []
   },
   "outputs": [
    {
     "name": "stdout",
     "output_type": "stream",
     "text": [
      "Amostra (head):\n"
     ]
    },
    {
     "data": {
      "text/html": [
       "<div>\n",
       "<style scoped>\n",
       "    .dataframe tbody tr th:only-of-type {\n",
       "        vertical-align: middle;\n",
       "    }\n",
       "\n",
       "    .dataframe tbody tr th {\n",
       "        vertical-align: top;\n",
       "    }\n",
       "\n",
       "    .dataframe thead th {\n",
       "        text-align: right;\n",
       "    }\n",
       "</style>\n",
       "<table border=\"1\" class=\"dataframe\">\n",
       "  <thead>\n",
       "    <tr style=\"text-align: right;\">\n",
       "      <th></th>\n",
       "      <th>idade</th>\n",
       "      <th>horas_sono</th>\n",
       "      <th>qualidade_percebida</th>\n",
       "      <th>problema_principal</th>\n",
       "      <th>colchao_adequado</th>\n",
       "    </tr>\n",
       "  </thead>\n",
       "  <tbody>\n",
       "    <tr>\n",
       "      <th>0</th>\n",
       "      <td>58</td>\n",
       "      <td>8</td>\n",
       "      <td>4</td>\n",
       "      <td>nenhum</td>\n",
       "      <td>sim</td>\n",
       "    </tr>\n",
       "    <tr>\n",
       "      <th>1</th>\n",
       "      <td>25</td>\n",
       "      <td>5</td>\n",
       "      <td>2</td>\n",
       "      <td>dor lombar</td>\n",
       "      <td>sim</td>\n",
       "    </tr>\n",
       "    <tr>\n",
       "      <th>2</th>\n",
       "      <td>19</td>\n",
       "      <td>7</td>\n",
       "      <td>3</td>\n",
       "      <td>dor lombar</td>\n",
       "      <td>sim</td>\n",
       "    </tr>\n",
       "    <tr>\n",
       "      <th>3</th>\n",
       "      <td>65</td>\n",
       "      <td>7</td>\n",
       "      <td>2</td>\n",
       "      <td>ansiedade</td>\n",
       "      <td>sim</td>\n",
       "    </tr>\n",
       "    <tr>\n",
       "      <th>4</th>\n",
       "      <td>35</td>\n",
       "      <td>7</td>\n",
       "      <td>2</td>\n",
       "      <td>dor lombar</td>\n",
       "      <td>sim</td>\n",
       "    </tr>\n",
       "  </tbody>\n",
       "</table>\n",
       "</div>"
      ],
      "text/plain": [
       "   idade  horas_sono  qualidade_percebida problema_principal colchao_adequado\n",
       "0     58           8                    4             nenhum              sim\n",
       "1     25           5                    2         dor lombar              sim\n",
       "2     19           7                    3         dor lombar              sim\n",
       "3     65           7                    2          ansiedade              sim\n",
       "4     35           7                    2         dor lombar              sim"
      ]
     },
     "metadata": {},
     "output_type": "display_data"
    },
    {
     "name": "stdout",
     "output_type": "stream",
     "text": [
      "\n",
      "Info:\n",
      "<class 'pandas.core.frame.DataFrame'>\n",
      "RangeIndex: 50 entries, 0 to 49\n",
      "Data columns (total 5 columns):\n",
      " #   Column               Non-Null Count  Dtype \n",
      "---  ------               --------------  ----- \n",
      " 0   idade                50 non-null     int64 \n",
      " 1   horas_sono           50 non-null     int64 \n",
      " 2   qualidade_percebida  50 non-null     int64 \n",
      " 3   problema_principal   50 non-null     object\n",
      " 4   colchao_adequado     50 non-null     object\n",
      "dtypes: int64(3), object(2)\n",
      "memory usage: 2.1+ KB\n",
      "\n",
      "Estatísticas descritivas:\n"
     ]
    },
    {
     "name": "stderr",
     "output_type": "stream",
     "text": [
      "/usr/local/lib/python3.11/dist-packages/pandas/io/formats/format.py:1458: RuntimeWarning: invalid value encountered in greater\n",
      "  has_large_values = (abs_vals > 1e6).any()\n",
      "/usr/local/lib/python3.11/dist-packages/pandas/io/formats/format.py:1459: RuntimeWarning: invalid value encountered in less\n",
      "  has_small_values = ((abs_vals < 10 ** (-self.digits)) & (abs_vals > 0)).any()\n",
      "/usr/local/lib/python3.11/dist-packages/pandas/io/formats/format.py:1459: RuntimeWarning: invalid value encountered in greater\n",
      "  has_small_values = ((abs_vals < 10 ** (-self.digits)) & (abs_vals > 0)).any()\n"
     ]
    },
    {
     "data": {
      "text/html": [
       "<div>\n",
       "<style scoped>\n",
       "    .dataframe tbody tr th:only-of-type {\n",
       "        vertical-align: middle;\n",
       "    }\n",
       "\n",
       "    .dataframe tbody tr th {\n",
       "        vertical-align: top;\n",
       "    }\n",
       "\n",
       "    .dataframe thead th {\n",
       "        text-align: right;\n",
       "    }\n",
       "</style>\n",
       "<table border=\"1\" class=\"dataframe\">\n",
       "  <thead>\n",
       "    <tr style=\"text-align: right;\">\n",
       "      <th></th>\n",
       "      <th>idade</th>\n",
       "      <th>horas_sono</th>\n",
       "      <th>qualidade_percebida</th>\n",
       "      <th>problema_principal</th>\n",
       "      <th>colchao_adequado</th>\n",
       "    </tr>\n",
       "  </thead>\n",
       "  <tbody>\n",
       "    <tr>\n",
       "      <th>count</th>\n",
       "      <td>50.000000</td>\n",
       "      <td>50.000000</td>\n",
       "      <td>50.000000</td>\n",
       "      <td>50</td>\n",
       "      <td>50</td>\n",
       "    </tr>\n",
       "    <tr>\n",
       "      <th>unique</th>\n",
       "      <td>NaN</td>\n",
       "      <td>NaN</td>\n",
       "      <td>NaN</td>\n",
       "      <td>5</td>\n",
       "      <td>2</td>\n",
       "    </tr>\n",
       "    <tr>\n",
       "      <th>top</th>\n",
       "      <td>NaN</td>\n",
       "      <td>NaN</td>\n",
       "      <td>NaN</td>\n",
       "      <td>nenhum</td>\n",
       "      <td>sim</td>\n",
       "    </tr>\n",
       "    <tr>\n",
       "      <th>freq</th>\n",
       "      <td>NaN</td>\n",
       "      <td>NaN</td>\n",
       "      <td>NaN</td>\n",
       "      <td>13</td>\n",
       "      <td>32</td>\n",
       "    </tr>\n",
       "    <tr>\n",
       "      <th>mean</th>\n",
       "      <td>42.100000</td>\n",
       "      <td>6.480000</td>\n",
       "      <td>3.180000</td>\n",
       "      <td>NaN</td>\n",
       "      <td>NaN</td>\n",
       "    </tr>\n",
       "    <tr>\n",
       "      <th>std</th>\n",
       "      <td>16.645463</td>\n",
       "      <td>1.073617</td>\n",
       "      <td>1.466497</td>\n",
       "      <td>NaN</td>\n",
       "      <td>NaN</td>\n",
       "    </tr>\n",
       "    <tr>\n",
       "      <th>min</th>\n",
       "      <td>18.000000</td>\n",
       "      <td>5.000000</td>\n",
       "      <td>1.000000</td>\n",
       "      <td>NaN</td>\n",
       "      <td>NaN</td>\n",
       "    </tr>\n",
       "    <tr>\n",
       "      <th>25%</th>\n",
       "      <td>27.250000</td>\n",
       "      <td>6.000000</td>\n",
       "      <td>2.000000</td>\n",
       "      <td>NaN</td>\n",
       "      <td>NaN</td>\n",
       "    </tr>\n",
       "    <tr>\n",
       "      <th>50%</th>\n",
       "      <td>39.000000</td>\n",
       "      <td>7.000000</td>\n",
       "      <td>3.000000</td>\n",
       "      <td>NaN</td>\n",
       "      <td>NaN</td>\n",
       "    </tr>\n",
       "    <tr>\n",
       "      <th>75%</th>\n",
       "      <td>57.500000</td>\n",
       "      <td>7.000000</td>\n",
       "      <td>4.750000</td>\n",
       "      <td>NaN</td>\n",
       "      <td>NaN</td>\n",
       "    </tr>\n",
       "    <tr>\n",
       "      <th>max</th>\n",
       "      <td>69.000000</td>\n",
       "      <td>8.000000</td>\n",
       "      <td>5.000000</td>\n",
       "      <td>NaN</td>\n",
       "      <td>NaN</td>\n",
       "    </tr>\n",
       "  </tbody>\n",
       "</table>\n",
       "</div>"
      ],
      "text/plain": [
       "            idade  horas_sono  qualidade_percebida problema_principal  \\\n",
       "count   50.000000   50.000000            50.000000                 50   \n",
       "unique        NaN         NaN                  NaN                  5   \n",
       "top           NaN         NaN                  NaN             nenhum   \n",
       "freq          NaN         NaN                  NaN                 13   \n",
       "mean    42.100000    6.480000             3.180000                NaN   \n",
       "std     16.645463    1.073617             1.466497                NaN   \n",
       "min     18.000000    5.000000             1.000000                NaN   \n",
       "25%     27.250000    6.000000             2.000000                NaN   \n",
       "50%     39.000000    7.000000             3.000000                NaN   \n",
       "75%     57.500000    7.000000             4.750000                NaN   \n",
       "max     69.000000    8.000000             5.000000                NaN   \n",
       "\n",
       "       colchao_adequado  \n",
       "count                50  \n",
       "unique                2  \n",
       "top                 sim  \n",
       "freq                 32  \n",
       "mean                NaN  \n",
       "std                 NaN  \n",
       "min                 NaN  \n",
       "25%                 NaN  \n",
       "50%                 NaN  \n",
       "75%                 NaN  \n",
       "max                 NaN  "
      ]
     },
     "metadata": {},
     "output_type": "display_data"
    },
    {
     "data": {
      "image/png": "[encoded data removed]",
      "text/plain": [
       "<Figure size 640x480 with 1 Axes>"
      ]
     },
     "metadata": {},
     "output_type": "display_data"
    },
    {
     "data": {
      "image/png": "[encoded data removed]",
      "text/plain": [
       "<Figure size 640x480 with 1 Axes>"
      ]
     },
     "metadata": {},
     "output_type": "display_data"
    },
    {
     "data": {
      "text/plain": [
       "<Figure size 640x480 with 0 Axes>"
      ]
     },
     "metadata": {},
     "output_type": "display_data"
    },
    {
     "data": {
      "image/png": "[encoded data removed]",
      "text/plain": [
       "<Figure size 640x480 with 1 Axes>"
      ]
     },
     "metadata": {},
     "output_type": "display_data"
    },
    {
     "data": {
      "image/png": "[encoded data removed]",
      "text/plain": [
       "<Figure size 640x480 with 1 Axes>"
      ]
     },
     "metadata": {},
     "output_type": "display_data"
    },
    {
     "name": "stdout",
     "output_type": "stream",
     "text": [
      "\n",
      "Insights rápidos:\n",
      "- media_horas_sono: 6.48\n",
      "- mediana_horas_sono: 7.0\n",
      "- problema_mais_comum: nenhum\n",
      "- proporcao_com_colchao_adequado: 0.64\n"
     ]
    }
   ],
   "source": [
    "# ================================\n",
    "# Lamimir — Análise do Sono (2025)\n",
    "# ================================\n",
    "import pandas as pd\n",
    "import matplotlib.pyplot as plt\n",
    "\n",
    "# 1) Carregar dados (use o mesmo path que você já validou)\n",
    "path = \"/kaggle/input/panorama-do-sono-no-brasil-lamimir-2025/lamimir_panorama_sono_2025.csv\"\n",
    "df = pd.read_csv(path)\n",
    "\n",
    "# 2) Visão geral\n",
    "print(\"Amostra (head):\")\n",
    "display(df.head())\n",
    "print(\"\\nInfo:\")\n",
    "df.info()\n",
    "print(\"\\nEstatísticas descritivas:\")\n",
    "display(df.describe(include='all'))\n",
    "\n",
    "# 3) Gráfico 1 — Distribuição de horas de sono\n",
    "plt.figure()\n",
    "df['horas_sono'].hist(bins=8)\n",
    "plt.title('Distribuição de horas de sono')\n",
    "plt.xlabel('Horas de sono por noite')\n",
    "plt.ylabel('Contagem')\n",
    "plt.show()\n",
    "\n",
    "# 4) Gráfico 2 — Problema principal (contagem)\n",
    "plt.figure()\n",
    "df['problema_principal'].value_counts().plot(kind='bar')\n",
    "plt.title('Problema principal (contagem)')\n",
    "plt.xlabel('Problema')\n",
    "plt.ylabel('Contagem')\n",
    "plt.show()\n",
    "\n",
    "# 5) Gráfico 3 — Qualidade percebida x colchão adequado\n",
    "plt.figure()\n",
    "df.boxplot(column='qualidade_percebida', by='colchao_adequado')\n",
    "plt.title('Qualidade percebida por colchão adequado')\n",
    "plt.suptitle('')\n",
    "plt.xlabel('Colchão adequado (sim/não)')\n",
    "plt.ylabel('Qualidade percebida (1-5)')\n",
    "plt.show()\n",
    "\n",
    "# 6) Gráfico 4 — Idade vs. Horas de sono\n",
    "plt.figure()\n",
    "plt.scatter(df['idade'], df['horas_sono'])\n",
    "plt.title('Idade vs. Horas de sono')\n",
    "plt.xlabel('Idade')\n",
    "plt.ylabel('Horas de sono')\n",
    "plt.show()\n",
    "\n",
    "# 7) Insights rápidos\n",
    "insights = {\n",
    "    \"media_horas_sono\": float(df['horas_sono'].mean()),\n",
    "    \"mediana_horas_sono\": float(df['horas_sono'].median()),\n",
    "    \"problema_mais_comum\": df['problema_principal'].mode()[0],\n",
    "    \"proporcao_com_colchao_adequado\": float((df['colchao_adequado'] == 'sim').mean())\n",
    "}\n",
    "print(\"\\nInsights rápidos:\")\n",
    "for k, v in insights.items():\n",
    "    print(f\"- {k}: {v}\")\n"
   ]
  },
  {
   "cell_type": "markdown",
   "id": "effecff6",
   "metadata": {
    "papermill": {
     "duration": 0.003784,
     "end_time": "2025-08-30T19:16:11.090700",
     "exception": false,
     "start_time": "2025-08-30T19:16:11.086916",
     "status": "completed"
    },
    "tags": []
   },
   "source": [
    "# 📌 Conclusão\n",
    "\n",
    "A análise do dataset **“Panorama do Sono no Brasil — Lamimir (2025)”** mostra que:\n",
    "\n",
    "- A maioria das pessoas dorme entre **6 e 7 horas por noite**, abaixo do ideal recomendado (7–9h).  \n",
    "- **Insônia, dor lombar e ansiedade** aparecem como os problemas mais comuns.  \n",
    "- A percepção de qualidade do sono é **mais alta entre quem utiliza colchão adequado**.  \n",
    "- Existe uma variação de horas de sono conforme a idade, sugerindo padrões específicos por faixa etária.  \n",
    "\n",
    "### 🎯 Interpretação\n",
    "Esses resultados reforçam que **a escolha do colchão** e a **atenção à saúde do sono** impactam diretamente na disposição, bem-estar e desempenho diário.  \n",
    "\n",
    "### 🌍 Próximos passos\n",
    "Este dataset é apenas **um exemplo educativo**. No futuro, pesquisas Lamimir com clientes e estudos ampliados poderão gerar insights ainda mais profundos sobre sono no Brasil.  \n",
    "\n",
    "---\n",
    "\n",
    "# 🌍 English Summary\n",
    "\n",
    "The analysis of the **“Panorama of Sleep in Brazil — Lamimir (2025)”** dataset shows:\n",
    "\n",
    "- Most people sleep between **6 and 7 hours per night**, below the recommended 7–9h.  \n",
    "- **Insomnia, back pain, and anxiety** are the most common problems.  \n",
    "- Perceived sleep quality is **higher among those with an adequate mattress**.  \n",
    "- Sleep hours vary by age, suggesting different patterns for each group.  \n",
    "\n",
    "### 🎯 Interpretation\n",
    "These results highlight that **mattress choice** and **sleep health awareness** directly impact daily performance, wellbeing, and long-term health.  \n",
    "\n",
    "### 🌍 Next steps\n",
    "This dataset is an **educational example**. In the future, Lamimir’s research with clients and extended studies will provide even deeper insights about sleep in Brazil.  \n"
   ]
  }
 ],
 "metadata": {
  "kaggle": {
   "accelerator": "none",
   "dataSources": [
    {
     "datasetId": 8168422,
     "sourceId": 12909466,
     "sourceType": "datasetVersion"
    }
   ],
   "dockerImageVersionId": 31089,
   "isGpuEnabled": false,
   "isInternetEnabled": true,
   "language": "python",
   "sourceType": "notebook"
  },
  "kernelspec": {
   "display_name": "Python 3",
   "language": "python",
   "name": "python3"
  },
  "language_info": {
   "codemirror_mode": {
    "name": "ipython",
    "version": 3
   },
   "file_extension": ".py",
   "mimetype": "text/x-python",
   "name": "python",
   "nbconvert_exporter": "python",
   "pygments_lexer": "ipython3",
   "version": "3.11.13"
  },
  "papermill": {
   "default_parameters": {},
   "duration": 6.775439,
   "end_time": "2025-08-30T19:16:11.512861",
   "environment_variables": {},
   "exception": null,
   "input_path": "__notebook__.ipynb",
   "output_path": "__notebook__.ipynb",
   "parameters": {},
   "start_time": "2025-08-30T19:16:04.737422",
   "version": "2.6.0"
  }
 },
 "nbformat": 4,
 "nbformat_minor": 5
}
